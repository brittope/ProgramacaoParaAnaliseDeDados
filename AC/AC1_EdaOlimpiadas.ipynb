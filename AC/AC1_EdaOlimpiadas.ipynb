{
 "cells": [
  {
   "cell_type": "code",
   "execution_count": 22,
   "metadata": {},
   "outputs": [],
   "source": [
    "# Imports necessários\n",
    "\n",
    "import kagglehub\n",
    "import pandas as pd\n",
    "import os\n",
    "from ydata_profiling import ProfileReport\n",
    "import scipy.stats as stats\n"
   ]
  },
  {
   "cell_type": "code",
   "execution_count": 23,
   "metadata": {},
   "outputs": [
    {
     "name": "stdout",
     "output_type": "stream",
     "text": [
      "Warning: Looks like you're using an outdated `kagglehub` version (installed: 0.3.8), please consider upgrading to the latest version (0.3.10).\n",
      "Path to dataset files: /Users/brittope/.cache/kagglehub/datasets/piterfm/paris-2024-olympic-summer-games/versions/27\n"
     ]
    }
   ],
   "source": [
    "path = kagglehub.dataset_download(\"piterfm/paris-2024-olympic-summer-games\")\n",
    "print(\"Path to dataset files:\", path)"
   ]
  },
  {
   "cell_type": "code",
   "execution_count": 24,
   "metadata": {},
   "outputs": [],
   "source": [
    "medals_total_df = pd.read_csv(os.path.join(path, \"medals_total.csv\"))\n",
    "medallists_df = pd.read_csv(os.path.join(path, \"medallists.csv\"))\n",
    "athletes_df = pd.read_csv(os.path.join(path, \"athletes.csv\"))"
   ]
  },
  {
   "cell_type": "code",
   "execution_count": 25,
   "metadata": {},
   "outputs": [
    {
     "name": "stderr",
     "output_type": "stream",
     "text": [
      "Summarize dataset: 100%|██████████| 32/32 [00:00<00:00, 58.55it/s, Completed]                          \n",
      "Generate report structure: 100%|██████████| 1/1 [00:00<00:00,  1.22it/s]\n",
      "Render HTML: 100%|██████████| 1/1 [00:00<00:00,  9.35it/s]\n",
      "Export report to file: 100%|██████████| 1/1 [00:00<00:00, 390.79it/s]\n",
      "Summarize dataset: 100%|██████████| 32/32 [00:00<00:00, 67.07it/s, Completed]                         \n",
      "Generate report structure: 100%|██████████| 1/1 [00:02<00:00,  2.39s/it]\n",
      "Render HTML: 100%|██████████| 1/1 [00:00<00:00,  4.69it/s]\n",
      "Export report to file: 100%|██████████| 1/1 [00:00<00:00, 234.91it/s]\n",
      "Summarize dataset: 100%|██████████| 55/55 [00:01<00:00, 30.93it/s, Completed]                           \n",
      "Generate report structure: 100%|██████████| 1/1 [00:07<00:00,  7.39s/it]\n",
      "Render HTML: 100%|██████████| 1/1 [00:00<00:00,  1.80it/s]\n",
      "Export report to file: 100%|██████████| 1/1 [00:00<00:00, 146.74it/s]"
     ]
    },
    {
     "name": "stdout",
     "output_type": "stream",
     "text": [
      "Reports saved as medals_total_report.html and medallists_report.html and athletes_report.html\n"
     ]
    },
    {
     "name": "stderr",
     "output_type": "stream",
     "text": [
      "\n"
     ]
    }
   ],
   "source": [
    "profile = ProfileReport(medals_total_df, title=\"Relatório - Total de Medalhas\")\n",
    "profile.to_file(\"medals_total_report.html\")\n",
    "profile = ProfileReport(medallists_df, title=\"Relatório - Medalhistas\")\n",
    "profile.to_file(\"medallists_report.html\")\n",
    "profile = ProfileReport(athletes_df, title=\"Relatório - Atletas\")\n",
    "profile.to_file(\"athletes_report.html\")\n",
    "print(\"Reports saved as medals_total_report.html and medallists_report.html and athletes_report.html\")"
   ]
  },
  {
   "cell_type": "markdown",
   "metadata": {},
   "source": [
    "##### 1. Quantos países ganharam pelo menos uma medalha?\n",
    "\n",
    "    92 países ganharam pelo menos uma medalha."
   ]
  },
  {
   "cell_type": "markdown",
   "metadata": {},
   "source": [
    "##### 2. Quantas medalhas foram distribuídas?\n",
    "\n",
    "    Ao total 2315 medalhas foram distribuídas."
   ]
  },
  {
   "cell_type": "code",
   "execution_count": 26,
   "metadata": {},
   "outputs": [
    {
     "data": {
      "text/plain": [
       "gender\n",
       "Female    172.224828\n",
       "Male      185.363916\n",
       "Name: height, dtype: float64"
      ]
     },
     "execution_count": 26,
     "metadata": {},
     "output_type": "execute_result"
    }
   ],
   "source": [
    "filtered_athletes_df = athletes_df[athletes_df.height != 0]\n",
    "filtered_athletes_df.groupby('gender')['height'].mean()"
   ]
  },
  {
   "cell_type": "markdown",
   "metadata": {},
   "source": [
    "#### 3. Qual a altura média, respectivamente, dos atletas homens e mulheres?\n",
    "\n",
    "    Para homens a média foi de 185.3 cm de altura, já para mulheres a média foi de 172.2 cm de altura."
   ]
  },
  {
   "cell_type": "markdown",
   "metadata": {},
   "source": [
    "#### 4. Na base de atletas, qual campo tem mais valores faltantes, entre gênero, apelido, país de residência, país de nascimento?\n",
    "\n",
    "    O campo com mais valores faltantes é o de apelido."
   ]
  },
  {
   "cell_type": "code",
   "execution_count": 27,
   "metadata": {},
   "outputs": [
    {
     "data": {
      "text/plain": [
       "0    2024-08-10\n",
       "Name: medal_date, dtype: object"
      ]
     },
     "execution_count": 27,
     "metadata": {},
     "output_type": "execute_result"
    }
   ],
   "source": [
    "medallists_df['medal_date'].mode()"
   ]
  },
  {
   "cell_type": "markdown",
   "metadata": {},
   "source": [
    "#### 5. Qual dia foi distribuído o maior número de medalhas?\n",
    "\n",
    "    No dia 10/08/2024 foi distribuído o maior número de medalhas em um único dia."
   ]
  },
  {
   "cell_type": "code",
   "execution_count": 28,
   "metadata": {},
   "outputs": [
    {
     "data": {
      "text/plain": [
       "0    Athletics\n",
       "Name: discipline, dtype: object"
      ]
     },
     "execution_count": 28,
     "metadata": {},
     "output_type": "execute_result"
    }
   ],
   "source": [
    "medallists_df['discipline'].mode()"
   ]
  },
  {
   "cell_type": "markdown",
   "metadata": {},
   "source": [
    "#### 6. Qual esporte foi distribuído o maior número de medalhas?\n",
    "\n",
    "    O esporte que destribuíu o maior número de medalhas foi o atletismo."
   ]
  },
  {
   "cell_type": "code",
   "execution_count": 29,
   "metadata": {},
   "outputs": [
    {
     "data": {
      "text/plain": [
       "0    ZHANG Yufei\n",
       "Name: name, dtype: object"
      ]
     },
     "execution_count": 29,
     "metadata": {},
     "output_type": "execute_result"
    }
   ],
   "source": [
    "medallists_df['name'].mode()"
   ]
  },
  {
   "cell_type": "markdown",
   "metadata": {},
   "source": [
    "#### 7. Qual dessas afirmações é verdadeira?\n",
    "*   Yufei Zhang é o atleta que mais ganhou medalhas.\n",
    "*   O número de homens que participaram é inferior ao de mulheres.\n",
    "*   O número de medalhas de ouro, prata e bronze é igual.\n",
    "*   Pelo menos metade dos países participantes ganhou pelo menos uma medalha.\n",
    "\n",
    "        A afirmativa correta é a primeira, Yufei Zhang é o atleta que mais ganhou medalhas nestes jogos olimpicos."
   ]
  },
  {
   "cell_type": "code",
   "execution_count": 30,
   "metadata": {},
   "outputs": [
    {
     "data": {
      "text/html": [
       "<div>\n",
       "<style scoped>\n",
       "    .dataframe tbody tr th:only-of-type {\n",
       "        vertical-align: middle;\n",
       "    }\n",
       "\n",
       "    .dataframe tbody tr th {\n",
       "        vertical-align: top;\n",
       "    }\n",
       "\n",
       "    .dataframe thead th {\n",
       "        text-align: right;\n",
       "    }\n",
       "</style>\n",
       "<table border=\"1\" class=\"dataframe\">\n",
       "  <thead>\n",
       "    <tr style=\"text-align: right;\">\n",
       "      <th></th>\n",
       "      <th>country_code</th>\n",
       "      <th>country</th>\n",
       "      <th>Gold Medal</th>\n",
       "      <th>Silver Medal</th>\n",
       "      <th>Bronze Medal</th>\n",
       "      <th>Total</th>\n",
       "      <th>population</th>\n",
       "      <th>gdp</th>\n",
       "      <th>gdp_per_capita</th>\n",
       "      <th>area</th>\n",
       "      <th>medal_per_population</th>\n",
       "    </tr>\n",
       "  </thead>\n",
       "  <tbody>\n",
       "    <tr>\n",
       "      <th>44</th>\n",
       "      <td>DMA</td>\n",
       "      <td>Dominica</td>\n",
       "      <td>1</td>\n",
       "      <td>0</td>\n",
       "      <td>0</td>\n",
       "      <td>1</td>\n",
       "      <td>6.651000e+04</td>\n",
       "      <td>6.539926e+08</td>\n",
       "      <td>9832.996431</td>\n",
       "      <td>750.0</td>\n",
       "      <td>6.651000e+04</td>\n",
       "    </tr>\n",
       "    <tr>\n",
       "      <th>39</th>\n",
       "      <td>CHI</td>\n",
       "      <td>Chile</td>\n",
       "      <td>1</td>\n",
       "      <td>1</td>\n",
       "      <td>0</td>\n",
       "      <td>2</td>\n",
       "      <td>1.676910e+05</td>\n",
       "      <td>1.250793e+10</td>\n",
       "      <td>74589.138023</td>\n",
       "      <td>NaN</td>\n",
       "      <td>8.384550e+04</td>\n",
       "    </tr>\n",
       "    <tr>\n",
       "      <th>40</th>\n",
       "      <td>LCA</td>\n",
       "      <td>Saint Lucia</td>\n",
       "      <td>1</td>\n",
       "      <td>1</td>\n",
       "      <td>0</td>\n",
       "      <td>2</td>\n",
       "      <td>1.792850e+05</td>\n",
       "      <td>2.430148e+09</td>\n",
       "      <td>13554.665188</td>\n",
       "      <td>620.0</td>\n",
       "      <td>8.964250e+04</td>\n",
       "    </tr>\n",
       "    <tr>\n",
       "      <th>26</th>\n",
       "      <td>BRN</td>\n",
       "      <td>Bahrain</td>\n",
       "      <td>2</td>\n",
       "      <td>1</td>\n",
       "      <td>1</td>\n",
       "      <td>4</td>\n",
       "      <td>4.589490e+05</td>\n",
       "      <td>1.512829e+10</td>\n",
       "      <td>32962.906512</td>\n",
       "      <td>5770.0</td>\n",
       "      <td>1.147372e+05</td>\n",
       "    </tr>\n",
       "    <tr>\n",
       "      <th>8</th>\n",
       "      <td>NZL</td>\n",
       "      <td>New Zealand</td>\n",
       "      <td>10</td>\n",
       "      <td>7</td>\n",
       "      <td>3</td>\n",
       "      <td>20</td>\n",
       "      <td>5.223100e+06</td>\n",
       "      <td>2.521755e+11</td>\n",
       "      <td>48280.811417</td>\n",
       "      <td>267710.0</td>\n",
       "      <td>2.611550e+05</td>\n",
       "    </tr>\n",
       "    <tr>\n",
       "      <th>...</th>\n",
       "      <td>...</td>\n",
       "      <td>...</td>\n",
       "      <td>...</td>\n",
       "      <td>...</td>\n",
       "      <td>...</td>\n",
       "      <td>...</td>\n",
       "      <td>...</td>\n",
       "      <td>...</td>\n",
       "      <td>...</td>\n",
       "      <td>...</td>\n",
       "      <td>...</td>\n",
       "    </tr>\n",
       "    <tr>\n",
       "      <th>34</th>\n",
       "      <td>ETH</td>\n",
       "      <td>Ethiopia</td>\n",
       "      <td>1</td>\n",
       "      <td>3</td>\n",
       "      <td>0</td>\n",
       "      <td>4</td>\n",
       "      <td>1.286917e+08</td>\n",
       "      <td>1.636979e+11</td>\n",
       "      <td>1272.016282</td>\n",
       "      <td>1136239.7</td>\n",
       "      <td>3.217292e+07</td>\n",
       "    </tr>\n",
       "    <tr>\n",
       "      <th>62</th>\n",
       "      <td>PER</td>\n",
       "      <td>Peru</td>\n",
       "      <td>0</td>\n",
       "      <td>0</td>\n",
       "      <td>1</td>\n",
       "      <td>1</td>\n",
       "      <td>3.384562e+07</td>\n",
       "      <td>2.676032e+11</td>\n",
       "      <td>7906.585029</td>\n",
       "      <td>1285220.0</td>\n",
       "      <td>3.384562e+07</td>\n",
       "    </tr>\n",
       "    <tr>\n",
       "      <th>37</th>\n",
       "      <td>EGY</td>\n",
       "      <td>Egypt</td>\n",
       "      <td>1</td>\n",
       "      <td>1</td>\n",
       "      <td>1</td>\n",
       "      <td>3</td>\n",
       "      <td>1.145358e+08</td>\n",
       "      <td>3.960025e+11</td>\n",
       "      <td>3457.456916</td>\n",
       "      <td>1001450.0</td>\n",
       "      <td>3.817859e+07</td>\n",
       "    </tr>\n",
       "    <tr>\n",
       "      <th>53</th>\n",
       "      <td>IND</td>\n",
       "      <td>India</td>\n",
       "      <td>0</td>\n",
       "      <td>1</td>\n",
       "      <td>5</td>\n",
       "      <td>6</td>\n",
       "      <td>1.438070e+09</td>\n",
       "      <td>3.567552e+12</td>\n",
       "      <td>2480.792087</td>\n",
       "      <td>3287260.0</td>\n",
       "      <td>2.396783e+08</td>\n",
       "    </tr>\n",
       "    <tr>\n",
       "      <th>45</th>\n",
       "      <td>PAK</td>\n",
       "      <td>Pakistan</td>\n",
       "      <td>1</td>\n",
       "      <td>0</td>\n",
       "      <td>0</td>\n",
       "      <td>1</td>\n",
       "      <td>2.475045e+08</td>\n",
       "      <td>3.379123e+11</td>\n",
       "      <td>1365.277432</td>\n",
       "      <td>796100.0</td>\n",
       "      <td>2.475045e+08</td>\n",
       "    </tr>\n",
       "  </tbody>\n",
       "</table>\n",
       "<p>66 rows × 11 columns</p>\n",
       "</div>"
      ],
      "text/plain": [
       "   country_code      country  ...       area  medal_per_population\n",
       "44          DMA     Dominica  ...      750.0          6.651000e+04\n",
       "39          CHI        Chile  ...        NaN          8.384550e+04\n",
       "40          LCA  Saint Lucia  ...      620.0          8.964250e+04\n",
       "26          BRN      Bahrain  ...     5770.0          1.147372e+05\n",
       "8           NZL  New Zealand  ...   267710.0          2.611550e+05\n",
       "..          ...          ...  ...        ...                   ...\n",
       "34          ETH     Ethiopia  ...  1136239.7          3.217292e+07\n",
       "62          PER         Peru  ...  1285220.0          3.384562e+07\n",
       "37          EGY        Egypt  ...  1001450.0          3.817859e+07\n",
       "53          IND        India  ...  3287260.0          2.396783e+08\n",
       "45          PAK     Pakistan  ...   796100.0          2.475045e+08\n",
       "\n",
       "[66 rows x 11 columns]"
      ]
     },
     "execution_count": 30,
     "metadata": {},
     "output_type": "execute_result"
    }
   ],
   "source": [
    "populacao_df = pd.read_csv(\"../DataFrames/population.csv\", skiprows=3)\n",
    "populacao_df = populacao_df[['Country Name', 'Country Code', '2023']]\n",
    "populacao_df.rename(columns={'2023': 'population'}, inplace=True)\n",
    "\n",
    "medalhas_e_populacao_df = pd.merge(medals_total_df, populacao_df, left_on='country_code', right_on='Country Code')\n",
    "\n",
    "renda_per_capita_df = pd.read_csv(\"../DataFrames/GDP.csv\", skiprows=3)\n",
    "renda_per_capita_df = renda_per_capita_df[['Country Name', 'Country Code', '2023']]\n",
    "renda_per_capita_df.rename(columns={'2023': 'gdp'}, inplace=True)\n",
    "\n",
    "medalhas_populacao_e_gdp_df = pd.merge(medalhas_e_populacao_df, renda_per_capita_df, left_on='country_code', right_on='Country Code')\n",
    "\n",
    "medalhas_populacao_e_gdp_df['gdp_per_capita'] = medalhas_populacao_e_gdp_df['gdp'] / medalhas_populacao_e_gdp_df['population']\n",
    "\n",
    "area_total_df = pd.read_csv(\"../dataFrames/totalArea.csv\", skiprows=3)\n",
    "area_total_df = area_total_df[['Country Name', 'Country Code', '2022']]\n",
    "area_total_df.rename(columns={'2022': 'area'}, inplace=True)\n",
    "\n",
    "medalhas_populacao_gdp_e_area_df = pd.merge(medalhas_populacao_e_gdp_df, area_total_df, left_on='country_code', right_on='Country Code')\n",
    "\n",
    "medalhas_populacao_gdp_e_area_df = medalhas_populacao_gdp_e_area_df[['country_code','country', 'Gold Medal', 'Silver Medal', 'Bronze Medal', 'Total', 'population', 'gdp', 'gdp_per_capita', 'area']]\n",
    "\n",
    "medalhas_populacao_gdp_e_area_df['medal_per_population'] = medalhas_populacao_gdp_e_area_df['population'] / medalhas_populacao_gdp_e_area_df['Total']\n",
    "#medalhas_populacao_gdp_e_area_df = medalhas_populacao_gdp_e_area_df[medalhas_populacao_gdp_e_area_df['Total'] >= 10]\n",
    "medalhas_populacao_gdp_e_area_df.sort_values(by='medal_per_population', ascending=True)"
   ]
  },
  {
   "cell_type": "code",
   "execution_count": 31,
   "metadata": {},
   "outputs": [
    {
     "name": "stdout",
     "output_type": "stream",
     "text": [
      "Correlação população: 0.40\n",
      "P-value: 0.0010274212931665702\n",
      "\n",
      "\n",
      "Correlação gdp: 0.87\n",
      "P-value: 2.803665197306508e-20\n",
      "\n",
      "\n",
      "Correlação area: 0.56\n",
      "P-value: 2.4231632831816926e-06\n",
      "\n",
      "\n",
      "Correlação gdp per capita: 0.37\n",
      "P-value: 0.002916745400798887\n"
     ]
    }
   ],
   "source": [
    "medalhas_populacao_gdp_e_area_df.dropna(subset=['population'], inplace=True)\n",
    "correlation, p_value = stats.pearsonr(medalhas_populacao_gdp_e_area_df['population'], medalhas_populacao_gdp_e_area_df['Total'])\n",
    "print(f\"Correlação população: {correlation:.2f}\")\n",
    "print(\"P-value:\", p_value)\n",
    "print(\"\\n\")\n",
    "medalhas_populacao_gdp_e_area_df.dropna(subset=['gdp'], inplace=True)\n",
    "correlation, p_value = stats.pearsonr(medalhas_populacao_gdp_e_area_df['gdp'], medalhas_populacao_gdp_e_area_df['Total'])\n",
    "print(f\"Correlação gdp: {correlation:.2f}\")\n",
    "print(\"P-value:\", p_value)\n",
    "print(\"\\n\")\n",
    "medalhas_populacao_gdp_e_area_df.dropna(subset=['area'], inplace=True)\n",
    "correlation, p_value = stats.pearsonr(medalhas_populacao_gdp_e_area_df['area'], medalhas_populacao_gdp_e_area_df['Total'])\n",
    "print(f\"Correlação area: {correlation:.2f}\")\n",
    "print(\"P-value:\", p_value)\n",
    "print(\"\\n\")\n",
    "medalhas_populacao_gdp_e_area_df.dropna(subset=['gdp_per_capita'], inplace=True)\n",
    "correlation, p_value = stats.pearsonr(medalhas_populacao_gdp_e_area_df['gdp_per_capita'], medalhas_populacao_gdp_e_area_df['Total'])\n",
    "print(f\"Correlação gdp per capita: {correlation:.2f}\")\n",
    "print(\"P-value:\", p_value)"
   ]
  },
  {
   "cell_type": "code",
   "execution_count": 32,
   "metadata": {},
   "outputs": [
    {
     "data": {
      "text/plain": [
       "np.float64(14216978.67242368)"
      ]
     },
     "execution_count": 32,
     "metadata": {},
     "output_type": "execute_result"
    }
   ],
   "source": [
    "medalhas_populacao_gdp_e_area_df['medal_per_population'].mean()"
   ]
  }
 ],
 "metadata": {
  "kernelspec": {
   "display_name": "Python 3",
   "language": "python",
   "name": "python3"
  },
  "language_info": {
   "codemirror_mode": {
    "name": "ipython",
    "version": 3
   },
   "file_extension": ".py",
   "mimetype": "text/x-python",
   "name": "python",
   "nbconvert_exporter": "python",
   "pygments_lexer": "ipython3",
   "version": "3.11.11"
  }
 },
 "nbformat": 4,
 "nbformat_minor": 2
}
